{
 "cells": [
  {
   "cell_type": "code",
   "execution_count": 1,
   "id": "f0aabf1c-5558-44fe-a6f6-1f642c1da343",
   "metadata": {},
   "outputs": [],
   "source": [
    "import pandas as pd"
   ]
  },
  {
   "cell_type": "code",
   "execution_count": 13,
   "id": "4e0953d7-abf4-4288-92ed-0a48da4f1a2c",
   "metadata": {},
   "outputs": [],
   "source": [
    "df = pd.read_csv('llm_eval_set.csv', header=1).dropna()"
   ]
  },
  {
   "cell_type": "code",
   "execution_count": 14,
   "id": "78895334-1c7e-4f3a-83bc-aea049048014",
   "metadata": {},
   "outputs": [
    {
     "data": {
      "text/html": [
       "<div>\n",
       "<style scoped>\n",
       "    .dataframe tbody tr th:only-of-type {\n",
       "        vertical-align: middle;\n",
       "    }\n",
       "\n",
       "    .dataframe tbody tr th {\n",
       "        vertical-align: top;\n",
       "    }\n",
       "\n",
       "    .dataframe thead th {\n",
       "        text-align: right;\n",
       "    }\n",
       "</style>\n",
       "<table border=\"1\" class=\"dataframe\">\n",
       "  <thead>\n",
       "    <tr style=\"text-align: right;\">\n",
       "      <th></th>\n",
       "      <th>Question</th>\n",
       "      <th>Answer</th>\n",
       "    </tr>\n",
       "  </thead>\n",
       "  <tbody>\n",
       "    <tr>\n",
       "      <th>0</th>\n",
       "      <td>Hi, sorry if that has been answered before, bu...</td>\n",
       "      <td>you can find how to do this here though: https...</td>\n",
       "    </tr>\n",
       "    <tr>\n",
       "      <th>1</th>\n",
       "      <td>Hello! I am new to w&amp;b and have been using it ...</td>\n",
       "      <td>Hey! Glad you're enjoying the course. W&amp;B is c...</td>\n",
       "    </tr>\n",
       "    <tr>\n",
       "      <th>2</th>\n",
       "      <td>Hi, I wanted to know how much is the limit for...</td>\n",
       "      <td>are you hitting any limits? I think for practi...</td>\n",
       "    </tr>\n",
       "    <tr>\n",
       "      <th>3</th>\n",
       "      <td>Hello, the model I am using for a baseline int...</td>\n",
       "      <td>Filesystem References\\nAnother common pattern ...</td>\n",
       "    </tr>\n",
       "    <tr>\n",
       "      <th>4</th>\n",
       "      <td>Hello, question: I am uploading images to arti...</td>\n",
       "      <td>I wouldn’t use Table as a way of storing image...</td>\n",
       "    </tr>\n",
       "    <tr>\n",
       "      <th>5</th>\n",
       "      <td>Hello, can't we add two same aliases to differ...</td>\n",
       "      <td>This seems like a good use case for “Tags” as ...</td>\n",
       "    </tr>\n",
       "    <tr>\n",
       "      <th>6</th>\n",
       "      <td>I have a question for the wandb team @Darek Kł...</td>\n",
       "      <td>in wandb.agent(sweep_id=sweep_id, function=tra...</td>\n",
       "    </tr>\n",
       "    <tr>\n",
       "      <th>7</th>\n",
       "      <td>I would like to know if is there a way to chan...</td>\n",
       "      <td>not sure if I get the question correctly, but ...</td>\n",
       "    </tr>\n",
       "  </tbody>\n",
       "</table>\n",
       "</div>"
      ],
      "text/plain": [
       "                                            Question  \\\n",
       "0  Hi, sorry if that has been answered before, bu...   \n",
       "1  Hello! I am new to w&b and have been using it ...   \n",
       "2  Hi, I wanted to know how much is the limit for...   \n",
       "3  Hello, the model I am using for a baseline int...   \n",
       "4  Hello, question: I am uploading images to arti...   \n",
       "5  Hello, can't we add two same aliases to differ...   \n",
       "6  I have a question for the wandb team @Darek Kł...   \n",
       "7  I would like to know if is there a way to chan...   \n",
       "\n",
       "                                              Answer  \n",
       "0  you can find how to do this here though: https...  \n",
       "1  Hey! Glad you're enjoying the course. W&B is c...  \n",
       "2  are you hitting any limits? I think for practi...  \n",
       "3  Filesystem References\\nAnother common pattern ...  \n",
       "4  I wouldn’t use Table as a way of storing image...  \n",
       "5  This seems like a good use case for “Tags” as ...  \n",
       "6  in wandb.agent(sweep_id=sweep_id, function=tra...  \n",
       "7  not sure if I get the question correctly, but ...  "
      ]
     },
     "execution_count": 14,
     "metadata": {},
     "output_type": "execute_result"
    }
   ],
   "source": [
    "df"
   ]
  },
  {
   "cell_type": "code",
   "execution_count": 15,
   "id": "53dde320-a805-4bb8-b1bc-eaeef4439c12",
   "metadata": {},
   "outputs": [
    {
     "data": {
      "text/plain": [
       "8"
      ]
     },
     "execution_count": 15,
     "metadata": {},
     "output_type": "execute_result"
    }
   ],
   "source": [
    "len(df)"
   ]
  },
  {
   "cell_type": "code",
   "execution_count": 17,
   "id": "830f8ccd-fed7-4e90-b2eb-041a38351503",
   "metadata": {},
   "outputs": [],
   "source": [
    "from prompt import prompt_template"
   ]
  },
  {
   "cell_type": "code",
   "execution_count": 18,
   "id": "d33b7043-292d-4615-afb7-be50591fbac6",
   "metadata": {},
   "outputs": [
    {
     "name": "stdout",
     "output_type": "stream",
     "text": [
      "You are an AI assistant for the open source library wandb. The documentation is located at https://docs.wandb.ai.\n",
      "You are given the following extracted parts of a long document and a question. Provide a conversational answer with a hyperlink to the documentation.\n",
      "You should only use hyperlinks that are explicitly listed as a source in the context. Do NOT make up a hyperlink that is not listed.\n",
      "If the question includes a request for code, provide a code block directly from the documentation.\n",
      "If you don't know the answer, just say \"Hmm, I'm not sure.\" Don't try to make up an answer.\n",
      "If the question is not about wandb, politely inform them that you are tuned to only answer questions about wandb.\n",
      "\n",
      "QUESTION: How to log audio with wandb?\n",
      "=========\n",
      "Content: Weights & Biases supports logging audio data arrays or file that can be played back in W&B. You can log audio with `wandb.Audio()`\n",
      "Source: 28-pl\n",
      "Content: # Log an audio array or file\n",
      "wandb.log({{\"my whale song\": wandb.Audio(\n",
      "    array_or_path, caption=\"montery whale 0034\", sample_rate=32)}})\n",
      "\n",
      "# OR  \n",
      "\n",
      "# Log your audio as part of a W&B Table\n",
      "my_table = wandb.Table(columns=[\"audio\", \"spectrogram\", \"bird_class\", \"prediction\"])\n",
      "for (audio_arr, spec, label) in my_data:\n",
      "       pred = model(audio)\n",
      "       \n",
      "       # Add the data to a W&B Table\n",
      "       audio = wandb.Audio(audio_arr, sample_rate=32)\n",
      "       img = wandb.Image(spec)\n",
      "       my_table.add_data(audio, img, label, pred) \n",
      "\n",
      "# Log the Table to wandb\n",
      " wandb.log({{\"validation_samples\" : my_table}})'\n",
      "Source: 30-pl\n",
      "=========\n",
      "FINAL ANSWER: Here is an example of how to log audio with wandb:\n",
      "\n",
      "```\n",
      "import wandb\n",
      "\n",
      "# Create an instance of the wandb.data_types.Audio class\n",
      "audio = wandb.data_types.Audio(data_or_path=\"path/to/audio.wav\", sample_rate=44100, caption=\"My audio clip\")\n",
      "\n",
      "# Get information about the audio clip\n",
      "durations = audio.durations()\n",
      "sample_rates = audio.sample_rates()\n",
      "\n",
      "# Log the audio clip\n",
      "wandb.log({{\"audio\": audio}})\n",
      "```\n",
      "SOURCES: 28-pl 30-pl\n",
      "\n",
      "QUESTION: How to eat vegetables using pandas?\n",
      "=========\n",
      "Content: ExtensionArray.repeat(repeats, axis=None) Returns a new ExtensionArray where each element of the current ExtensionArray is repeated consecutively a given number of times. \n",
      "\n",
      "Parameters: repeats int or array of ints. The number of repetitions for each element. This should be a positive integer. Repeating 0 times will return an empty array. axis (0 or ‘index’, 1 or ‘columns’), default 0 The axis along which to repeat values. Currently only axis=0 is supported.\n",
      "Source: 0-pl\n",
      "=========\n",
      "FINAL ANSWER: You can't eat vegetables using pandas. You can only eat them using your mouth.\n",
      "SOURCES:\n",
      "\n",
      "Question: {question}\n",
      "=========\n",
      "{summaries}\n",
      "=========\n",
      "Answer in Markdown:\n"
     ]
    }
   ],
   "source": [
    "print(prompt_template)"
   ]
  },
  {
   "cell_type": "code",
   "execution_count": 19,
   "id": "164c55e1-342b-4efe-88c9-15a487eef7a0",
   "metadata": {},
   "outputs": [
    {
     "data": {
      "text/plain": [
       "392"
      ]
     },
     "execution_count": 19,
     "metadata": {},
     "output_type": "execute_result"
    }
   ],
   "source": [
    "len(prompt_template.split())"
   ]
  },
  {
   "cell_type": "code",
   "execution_count": null,
   "id": "6f1d6b4a-78e1-4f1d-93ab-717bee8893f2",
   "metadata": {},
   "outputs": [],
   "source": []
  }
 ],
 "metadata": {
  "kernelspec": {
   "display_name": "Python 3",
   "language": "python",
   "name": "python3"
  },
  "language_info": {
   "codemirror_mode": {
    "name": "ipython",
    "version": 3
   },
   "file_extension": ".py",
   "mimetype": "text/x-python",
   "name": "python",
   "nbconvert_exporter": "python",
   "pygments_lexer": "ipython3",
   "version": "3.8.13"
  }
 },
 "nbformat": 4,
 "nbformat_minor": 5
}
